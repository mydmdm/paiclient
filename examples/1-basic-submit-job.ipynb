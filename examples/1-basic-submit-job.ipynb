{
 "cells": [
  {
   "cell_type": "markdown",
   "metadata": {},
   "source": [
    "# Introduction\n",
    "This notebook shows how to submit a job with current `Jupyter` notebook. To authenticated by `OpenPAI`, please store your system information in `openpai.json` (`OpenPAI` configuration file), including key information like **pai_uri**, **user**, **passwd** and **hdfs_web_uri**\n",
    "\n",
    "Note:\n",
    "- **pai_uri** is in the format of `http://x.x.x.x`\n",
    "- **hdfs_web_uri** is in the format of `http://x.x.x.x:port`\n",
    "- <red>***Keep your configuration secret. Never commit it***</red>"
   ]
  },
  {
   "cell_type": "markdown",
   "metadata": {},
   "source": [
    "# Prepare environment"
   ]
  },
  {
   "cell_type": "code",
   "execution_count": null,
   "metadata": {},
   "outputs": [],
   "source": [
    "! pip install -U https://codeload.github.com/mydmdm/paiclient/zip/master"
   ]
  },
  {
   "cell_type": "markdown",
   "metadata": {},
   "source": [
    "# Do whatever you want"
   ]
  },
  {
   "cell_type": "code",
   "execution_count": null,
   "metadata": {},
   "outputs": [],
   "source": [
    "from paiclient.core import in_job_container\n",
    "\n",
    "if in_job_container():\n",
    "    print('I am in a container')\n",
    "else:\n",
    "    print('I am out of a container')"
   ]
  },
  {
   "cell_type": "markdown",
   "metadata": {},
   "source": [
    "# Submit to `OpenPAI`\n",
    "After debugging in your environment, just submit current notebook and let it run."
   ]
  },
  {
   "cell_type": "code",
   "execution_count": null,
   "metadata": {},
   "outputs": [],
   "source": [
    "from paiclient.notebook import get_notebook_name, submit_notebook\n",
    "from paiclient.core import Client\n",
    "\n",
    "if not in_job_container():\n",
    "    client = Client.from_json('openpai.json')\n",
    "    job_name = submit_notebook(\n",
    "        client,\n",
    "        nb_file=get_notebook_name(), \n",
    "        image='jupyter/minimal-notebook', # 'ubuntu:16.04'\n",
    "        remote_root='/user/{}/jobs'.format(client.user)\n",
    "    )\n",
    "    print(client.get_job_link(job_name))"
   ]
  },
  {
   "cell_type": "code",
   "execution_count": null,
   "metadata": {},
   "outputs": [],
   "source": []
  },
  {
   "cell_type": "code",
   "execution_count": null,
   "metadata": {},
   "outputs": [],
   "source": []
  }
 ],
 "metadata": {
  "kernelspec": {
   "display_name": "Python 3",
   "language": "python",
   "name": "python3"
  },
  "language_info": {
   "codemirror_mode": {
    "name": "ipython",
    "version": 3
   },
   "file_extension": ".py",
   "mimetype": "text/x-python",
   "name": "python",
   "nbconvert_exporter": "python",
   "pygments_lexer": "ipython3",
   "version": "3.6.8"
  }
 },
 "nbformat": 4,
 "nbformat_minor": 2
}
