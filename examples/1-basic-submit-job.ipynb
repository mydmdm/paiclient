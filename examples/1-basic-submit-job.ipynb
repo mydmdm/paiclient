{
 "cells": [
  {
   "cell_type": "markdown",
   "metadata": {},
   "source": [
    "# Introduction\n",
    "This notebook shows how to submit a job with current `Jupyter` notebook. To authenticated by `OpenPAI`, please store your system information in ***openpai.json*** (`OpenPAI` configuration file), including key information like **pai_uri**, **user**, **passwd** and **hdfs_web_uri**\n",
    "\n",
    "Note:\n",
    "- **pai_uri** is in the format of `http://x.x.x.x`\n",
    "- **hdfs_web_uri** is in the format of `http://x.x.x.x:port`\n",
    "- ***Keep your configuration secret. Never commit it***"
   ]
  },
  {
   "cell_type": "markdown",
   "metadata": {},
   "source": [
    "# Prepare environment"
   ]
  },
  {
   "cell_type": "code",
   "execution_count": null,
   "metadata": {},
   "outputs": [],
   "source": [
    "! pip install -U https://codeload.github.com/mydmdm/paiclient/zip/master"
   ]
  },
  {
   "cell_type": "markdown",
   "metadata": {},
   "source": [
    "# Do whatever you want"
   ]
  },
  {
   "cell_type": "code",
   "execution_count": null,
   "metadata": {},
   "outputs": [],
   "source": [
    "# set logging to console and file\n",
    "import logging\n",
    "log_file = 'log.txt'\n",
    "\n",
    "logger = logging.getLogger(__name__)\n",
    "logger.setLevel(level = logging.INFO)\n",
    "\n",
    "handler = logging.FileHandler(log_file, mode='w')\n",
    "handler.setLevel(logging.DEBUG)\n",
    "logger.addHandler(handler)\n",
    "\n",
    "handler = logging.StreamHandler()\n",
    "handler.setLevel(logging.DEBUG)\n",
    "logger.addHandler(handler)\n"
   ]
  },
  {
   "cell_type": "code",
   "execution_count": null,
   "metadata": {},
   "outputs": [],
   "source": [
    "from paiclient.core import in_job_container, in_debug_mode\n",
    "\n",
    "if in_job_container():\n",
    "    logger.info('I am in a container')\n",
    "else:\n",
    "    logger.info('I am out of a container')"
   ]
  },
  {
   "cell_type": "code",
   "execution_count": null,
   "metadata": {},
   "outputs": [],
   "source": [
    "# upload necessary files\n",
    "from paiclient.core import Client\n",
    "import os\n",
    "\n",
    "if in_job_container() and not in_debug_mode():\n",
    "    client = Client.from_envs()\n",
    "    client.storage.upload(local_path=log_file, remote_path='{}/output/{}'.format(os.environ['PAISDK_JOB_DIR'], log_file))"
   ]
  },
  {
   "cell_type": "markdown",
   "metadata": {},
   "source": [
    "# Submit to `OpenPAI`\n",
    "After debugging in your environment, just submit current notebook and let it run."
   ]
  },
  {
   "cell_type": "code",
   "execution_count": null,
   "metadata": {},
   "outputs": [],
   "source": [
    "from paiclient.notebook import submit_notebook\n",
    "from paiclient.core import Client\n",
    "from uuid import uuid4\n",
    "\n",
    "if not in_job_container() or in_debug_mode():\n",
    "    client = Client.from_json('openpai.json')\n",
    "    _, name, _ = parse_notebook_path()\n",
    "    job_name = '{}_{}'.format(name, uuid4().hex)\n",
    "    job_dir = '/user/{}/jobs/{}'.format(client.user, job_name)\n",
    "    submit_notebook(\n",
    "        client, job_name,\n",
    "        image='jupyter/minimal-notebook', # 'ubuntu:16.04'\n",
    "        job_dir=job_dir\n",
    "    )\n",
    "    logger.info(client.get_job_link(job_name))\n"
   ]
  },
  {
   "cell_type": "code",
   "execution_count": null,
   "metadata": {},
   "outputs": [],
   "source": []
  }
 ],
 "metadata": {
  "kernelspec": {
   "display_name": "Python 3",
   "language": "python",
   "name": "python3"
  },
  "language_info": {
   "codemirror_mode": {
    "name": "ipython",
    "version": 3
   },
   "file_extension": ".py",
   "mimetype": "text/x-python",
   "name": "python",
   "nbconvert_exporter": "python",
   "pygments_lexer": "ipython3",
   "version": "3.6.8"
  }
 },
 "nbformat": 4,
 "nbformat_minor": 2
}
