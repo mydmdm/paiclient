{
 "cells": [
  {
   "cell_type": "markdown",
   "metadata": {},
   "source": [
    "# Introduction\n",
    "This notebook shows how to submit a job with current `Jupyter` notebook. To authenticated by `OpenPAI`, please store your system information in `openpai.json` (`OpenPAI` configuration file), including key information like **pai_uri**, **user**, **passwd** and **hdfs_web_uri**\n",
    "\n",
    "Note:\n",
    "- **pai_uri** is in the format of `http://x.x.x.x`\n",
    "- **hdfs_web_uri** is in the format of `http://x.x.x.x:port`\n",
    "- <red>***Keep your configuration secret. Never commit it***</red>"
   ]
  },
  {
   "cell_type": "markdown",
   "metadata": {},
   "source": [
    "# Prepare environment"
   ]
  },
  {
   "cell_type": "code",
   "execution_count": null,
   "metadata": {},
   "outputs": [],
   "source": [
    "import importlib\n",
    "import os, sys\n",
    "\n",
    "sdk_module_name = 'paiclient'\n",
    "module_spec = importlib.util.find_spec(sdk_module_name)\n",
    "\n",
    "if module_spec is None:\n",
    "    ! pip install -U https://codeload.github.com/mydmdm/paiclient/zip/master\n",
    "\n",
    "local_sdk_path = '..' # set it if you want to debug the sdk (client) itself\n",
    "\n",
    "if local_sdk_path and os.path.isdir(os.path.join(local_sdk_path, sdk_module_name)) and local_sdk_path not in sys.path:\n",
    "    sys.path.insert(0, local_sdk_path)\n",
    "    %load_ext autoreload\n",
    "    %autoreload 2\n",
    "    \n",
    "print(importlib.util.find_spec(sdk_module_name))"
   ]
  },
  {
   "cell_type": "markdown",
   "metadata": {},
   "source": [
    "# Do whatever you want"
   ]
  },
  {
   "cell_type": "code",
   "execution_count": null,
   "metadata": {},
   "outputs": [],
   "source": [
    "from paiclient.core import in_job_container, in_debug_mode\n",
    "\n",
    "\n",
    "if in_job_container():\n",
    "    print('I am in a container')\n",
    "else:\n",
    "    print('I am out of a container')"
   ]
  },
  {
   "cell_type": "markdown",
   "metadata": {},
   "source": [
    "# Submit to `OpenPAI`\n",
    "After debugging in your environment, just submit current notebook and let it run."
   ]
  },
  {
   "cell_type": "code",
   "execution_count": null,
   "metadata": {},
   "outputs": [],
   "source": [
    "from paiclient.notebook import parse_notebook_path, submit_notebook\n",
    "from paiclient.core import Client\n",
    "from uuid import uuid4\n",
    "\n",
    "if not in_job_container() or in_debug_mode():\n",
    "    client = Client.from_json('openpai.json')\n",
    "    _, name, _ = parse_notebook_path()\n",
    "    job_name = '{}_{}'.format(name, uuid4().hex)\n",
    "    job_dir = '/user/{}/jobs/{}'.format(client.user, job_name)\n",
    "    submit_notebook(\n",
    "        client,\n",
    "        image='jupyter/minimal-notebook', # 'ubuntu:16.04'\n",
    "        job_dir=job_dir\n",
    "    )\n",
    "    print(client.get_job_link(job_name))\n",
    "else:\n",
    "    client = Client.from_envs()\n",
    "    print(vars(client))"
   ]
  },
  {
   "cell_type": "code",
   "execution_count": null,
   "metadata": {},
   "outputs": [],
   "source": []
  }
 ],
 "metadata": {
  "kernelspec": {
   "display_name": "Python 3",
   "language": "python",
   "name": "python3"
  },
  "language_info": {
   "codemirror_mode": {
    "name": "ipython",
    "version": 3
   },
   "file_extension": ".py",
   "mimetype": "text/x-python",
   "name": "python",
   "nbconvert_exporter": "python",
   "pygments_lexer": "ipython3",
   "version": "3.6.8"
  }
 },
 "nbformat": 4,
 "nbformat_minor": 2
}
